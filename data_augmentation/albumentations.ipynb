{
 "cells": [
  {
   "cell_type": "code",
   "execution_count": 1,
   "metadata": {},
   "outputs": [
    {
     "name": "stdout",
     "output_type": "stream",
     "text": [
      "Requirement already satisfied: albumentations in c:\\users\\gaby3\\documents\\sea-turtles-detection\\.venv\\lib\\site-packages (1.3.1)\n",
      "Requirement already satisfied: numpy>=1.11.1 in c:\\users\\gaby3\\documents\\sea-turtles-detection\\.venv\\lib\\site-packages (from albumentations) (1.26.1)\n",
      "Requirement already satisfied: scipy>=1.1.0 in c:\\users\\gaby3\\documents\\sea-turtles-detection\\.venv\\lib\\site-packages (from albumentations) (1.11.3)\n",
      "Requirement already satisfied: scikit-image>=0.16.1 in c:\\users\\gaby3\\documents\\sea-turtles-detection\\.venv\\lib\\site-packages (from albumentations) (0.22.0)\n",
      "Requirement already satisfied: PyYAML in c:\\users\\gaby3\\documents\\sea-turtles-detection\\.venv\\lib\\site-packages (from albumentations) (6.0.1)\n",
      "Requirement already satisfied: qudida>=0.0.4 in c:\\users\\gaby3\\documents\\sea-turtles-detection\\.venv\\lib\\site-packages (from albumentations) (0.0.4)\n",
      "Requirement already satisfied: opencv-python-headless>=4.1.1 in c:\\users\\gaby3\\documents\\sea-turtles-detection\\.venv\\lib\\site-packages (from albumentations) (4.8.0.74)\n",
      "Requirement already satisfied: scikit-learn>=0.19.1 in c:\\users\\gaby3\\documents\\sea-turtles-detection\\.venv\\lib\\site-packages (from qudida>=0.0.4->albumentations) (1.3.2)\n",
      "Requirement already satisfied: typing-extensions in c:\\users\\gaby3\\documents\\sea-turtles-detection\\.venv\\lib\\site-packages (from qudida>=0.0.4->albumentations) (4.8.0)\n",
      "Requirement already satisfied: networkx>=2.8 in c:\\users\\gaby3\\documents\\sea-turtles-detection\\.venv\\lib\\site-packages (from scikit-image>=0.16.1->albumentations) (3.2.1)\n",
      "Requirement already satisfied: pillow>=9.0.1 in c:\\users\\gaby3\\documents\\sea-turtles-detection\\.venv\\lib\\site-packages (from scikit-image>=0.16.1->albumentations) (10.1.0)\n",
      "Requirement already satisfied: imageio>=2.27 in c:\\users\\gaby3\\documents\\sea-turtles-detection\\.venv\\lib\\site-packages (from scikit-image>=0.16.1->albumentations) (2.33.0)\n",
      "Requirement already satisfied: tifffile>=2022.8.12 in c:\\users\\gaby3\\documents\\sea-turtles-detection\\.venv\\lib\\site-packages (from scikit-image>=0.16.1->albumentations) (2023.9.26)\n",
      "Requirement already satisfied: packaging>=21 in c:\\users\\gaby3\\documents\\sea-turtles-detection\\.venv\\lib\\site-packages (from scikit-image>=0.16.1->albumentations) (23.2)\n",
      "Requirement already satisfied: lazy_loader>=0.3 in c:\\users\\gaby3\\documents\\sea-turtles-detection\\.venv\\lib\\site-packages (from scikit-image>=0.16.1->albumentations) (0.3)\n",
      "Requirement already satisfied: joblib>=1.1.1 in c:\\users\\gaby3\\documents\\sea-turtles-detection\\.venv\\lib\\site-packages (from scikit-learn>=0.19.1->qudida>=0.0.4->albumentations) (1.3.2)\n",
      "Requirement already satisfied: threadpoolctl>=2.0.0 in c:\\users\\gaby3\\documents\\sea-turtles-detection\\.venv\\lib\\site-packages (from scikit-learn>=0.19.1->qudida>=0.0.4->albumentations) (3.2.0)\n",
      "Requirement already satisfied: opencv-python in c:\\users\\gaby3\\documents\\sea-turtles-detection\\.venv\\lib\\site-packages (4.8.1.78)\n",
      "Requirement already satisfied: numpy>=1.21.2 in c:\\users\\gaby3\\documents\\sea-turtles-detection\\.venv\\lib\\site-packages (from opencv-python) (1.26.1)\n"
     ]
    }
   ],
   "source": [
    "!pip install -U albumentations\n",
    "!pip install opencv-python"
   ]
  },
  {
   "cell_type": "code",
   "execution_count": 3,
   "metadata": {},
   "outputs": [],
   "source": [
    "%matplotlib inline\n",
    "import cv2\n",
    "import os\n",
    "import albumentations as A\n",
    "from albumentations import (Compose,BboxParams, RandomCrop, HorizontalFlip, Rotate)\n",
    "from matplotlib import pyplot as plt"
   ]
  },
  {
   "cell_type": "code",
   "execution_count": 44,
   "metadata": {},
   "outputs": [],
   "source": [
    "transform = A.Compose([\n",
    "    A.RandomCrop(width=450, height=450),\n",
    "    A.HorizontalFlip(p=0.5),\n",
    "    A.RandomBrightnessContrast(p=0.2),\n",
    "    A.Rotate(p=0.5, limit=45),\n",
    "], bbox_params=A.BboxParams(format='yolo'))"
   ]
  },
  {
   "cell_type": "code",
   "execution_count": 35,
   "metadata": {},
   "outputs": [],
   "source": [
    "img_path_str = \"../Dataset/sea-turtles-1-test/all/images\"\n",
    "lab_path_str = \"../Dataset/sea-turtles-1-test/all/labels\"\n",
    "# Get image and label paths\n",
    "image_paths = [os.path.join(img_path_str, image) for image in os.listdir(img_path_str)]\n",
    "label_paths = [os.path.join(lab_path_str, label) for label in os.listdir(lab_path_str)]\n"
   ]
  },
  {
   "cell_type": "code",
   "execution_count": 45,
   "metadata": {},
   "outputs": [],
   "source": [
    "# Function to load annotations\n",
    "def load_annotations(path):\n",
    "    with open(path, \"r\") as f:\n",
    "        lines = f.readlines()\n",
    "        return [[float(x) for x in line.split()] for line in lines]\n",
    "\n",
    "# Function to save annotations\n",
    "def save_annotations(path, annotations):\n",
    "    with open(path, \"w\") as f:\n",
    "        for annotation in annotations:\n",
    "            f.write(\" \".join(str(x) for x in annotation) + \"\\n\")"
   ]
  },
  {
   "cell_type": "code",
   "execution_count": 46,
   "metadata": {},
   "outputs": [
    {
     "ename": "KeyError",
     "evalue": "'bboxes'",
     "output_type": "error",
     "traceback": [
      "\u001b[1;31m---------------------------------------------------------------------------\u001b[0m",
      "\u001b[1;31mKeyError\u001b[0m                                  Traceback (most recent call last)",
      "\u001b[1;32mc:\\Users\\gaby3\\Documents\\sea-turtles-detection\\data_augmentation\\albumentations.ipynb Cell 6\u001b[0m line \u001b[0;36m8\n\u001b[0;32m      <a href='vscode-notebook-cell:/c%3A/Users/gaby3/Documents/sea-turtles-detection/data_augmentation/albumentations.ipynb#W3sZmlsZQ%3D%3D?line=4'>5</a>\u001b[0m label \u001b[39m=\u001b[39m load_annotations(label_path)\n\u001b[0;32m      <a href='vscode-notebook-cell:/c%3A/Users/gaby3/Documents/sea-turtles-detection/data_augmentation/albumentations.ipynb#W3sZmlsZQ%3D%3D?line=6'>7</a>\u001b[0m \u001b[39m# Apply the augmentation\u001b[39;00m\n\u001b[1;32m----> <a href='vscode-notebook-cell:/c%3A/Users/gaby3/Documents/sea-turtles-detection/data_augmentation/albumentations.ipynb#W3sZmlsZQ%3D%3D?line=7'>8</a>\u001b[0m transformed \u001b[39m=\u001b[39m transform(image\u001b[39m=\u001b[39;49mimage)\n\u001b[0;32m      <a href='vscode-notebook-cell:/c%3A/Users/gaby3/Documents/sea-turtles-detection/data_augmentation/albumentations.ipynb#W3sZmlsZQ%3D%3D?line=8'>9</a>\u001b[0m augmented_images \u001b[39m=\u001b[39m transformed[\u001b[39m'\u001b[39m\u001b[39mimage\u001b[39m\u001b[39m'\u001b[39m]\n\u001b[0;32m     <a href='vscode-notebook-cell:/c%3A/Users/gaby3/Documents/sea-turtles-detection/data_augmentation/albumentations.ipynb#W3sZmlsZQ%3D%3D?line=9'>10</a>\u001b[0m \u001b[39m#augmented_labels = transformed['bboxes']\u001b[39;00m\n\u001b[0;32m     <a href='vscode-notebook-cell:/c%3A/Users/gaby3/Documents/sea-turtles-detection/data_augmentation/albumentations.ipynb#W3sZmlsZQ%3D%3D?line=10'>11</a>\u001b[0m \n\u001b[0;32m     <a href='vscode-notebook-cell:/c%3A/Users/gaby3/Documents/sea-turtles-detection/data_augmentation/albumentations.ipynb#W3sZmlsZQ%3D%3D?line=11'>12</a>\u001b[0m \u001b[39m# Save the augmented images and labels\u001b[39;00m\n",
      "File \u001b[1;32mc:\\Users\\gaby3\\Documents\\sea-turtles-detection\\.venv\\Lib\\site-packages\\albumentations\\core\\composition.py:207\u001b[0m, in \u001b[0;36mCompose.__call__\u001b[1;34m(self, force_apply, *args, **data)\u001b[0m\n\u001b[0;32m    202\u001b[0m check_each_transform \u001b[39m=\u001b[39m \u001b[39many\u001b[39m(\n\u001b[0;32m    203\u001b[0m     \u001b[39mgetattr\u001b[39m(item\u001b[39m.\u001b[39mparams, \u001b[39m\"\u001b[39m\u001b[39mcheck_each_transform\u001b[39m\u001b[39m\"\u001b[39m, \u001b[39mFalse\u001b[39;00m) \u001b[39mfor\u001b[39;00m item \u001b[39min\u001b[39;00m \u001b[39mself\u001b[39m\u001b[39m.\u001b[39mprocessors\u001b[39m.\u001b[39mvalues()\n\u001b[0;32m    204\u001b[0m )\n\u001b[0;32m    206\u001b[0m \u001b[39mfor\u001b[39;00m p \u001b[39min\u001b[39;00m \u001b[39mself\u001b[39m\u001b[39m.\u001b[39mprocessors\u001b[39m.\u001b[39mvalues():\n\u001b[1;32m--> 207\u001b[0m     p\u001b[39m.\u001b[39;49mpreprocess(data)\n\u001b[0;32m    209\u001b[0m \u001b[39mfor\u001b[39;00m idx, t \u001b[39min\u001b[39;00m \u001b[39menumerate\u001b[39m(transforms):\n\u001b[0;32m    210\u001b[0m     data \u001b[39m=\u001b[39m t(\u001b[39m*\u001b[39m\u001b[39m*\u001b[39mdata)\n",
      "File \u001b[1;32mc:\\Users\\gaby3\\Documents\\sea-turtles-detection\\.venv\\Lib\\site-packages\\albumentations\\core\\utils.py:83\u001b[0m, in \u001b[0;36mDataProcessor.preprocess\u001b[1;34m(self, data)\u001b[0m\n\u001b[0;32m     81\u001b[0m rows, cols \u001b[39m=\u001b[39m data[\u001b[39m\"\u001b[39m\u001b[39mimage\u001b[39m\u001b[39m\"\u001b[39m]\u001b[39m.\u001b[39mshape[:\u001b[39m2\u001b[39m]\n\u001b[0;32m     82\u001b[0m \u001b[39mfor\u001b[39;00m data_name \u001b[39min\u001b[39;00m \u001b[39mself\u001b[39m\u001b[39m.\u001b[39mdata_fields:\n\u001b[1;32m---> 83\u001b[0m     data[data_name] \u001b[39m=\u001b[39m \u001b[39mself\u001b[39m\u001b[39m.\u001b[39mcheck_and_convert(data[data_name], rows, cols, direction\u001b[39m=\u001b[39m\u001b[39m\"\u001b[39m\u001b[39mto\u001b[39m\u001b[39m\"\u001b[39m)\n",
      "\u001b[1;31mKeyError\u001b[0m: 'bboxes'"
     ]
    }
   ],
   "source": [
    "# Loop through all images and labels\n",
    "for image_path, label_path in zip(image_paths, label_paths):\n",
    "    # Load the image and label\n",
    "    image = cv2.imread(image_path)\n",
    "    label = load_annotations(label_path)\n",
    "\n",
    "    # Apply the augmentation\n",
    "    transformed = transform(image=image)\n",
    "    augmented_images = transformed['image']\n",
    "    #augmented_labels = transformed['bboxes']\n",
    "\n",
    "    # Save the augmented images and labels\n",
    "    for i, (aug_image, aug_label) in enumerate(zip(augmented_images)):#, augmented_labels)):\n",
    "        new_image_path = os.path.join(\"augmented_images\", f\"{os.path.basename(image_path)}_{i}.jpg\")\n",
    "        new_label_path = os.path.join(\"augmented_labels\", f\"{os.path.basename(label_path)}_{i}\")\n",
    "        cv2.imwrite(new_image_path, aug_image)\n",
    "        save_annotations(new_label_path, aug_label)"
   ]
  }
 ],
 "metadata": {
  "kernelspec": {
   "display_name": ".venv",
   "language": "python",
   "name": "python3"
  },
  "language_info": {
   "codemirror_mode": {
    "name": "ipython",
    "version": 3
   },
   "file_extension": ".py",
   "mimetype": "text/x-python",
   "name": "python",
   "nbconvert_exporter": "python",
   "pygments_lexer": "ipython3",
   "version": "3.11.6"
  }
 },
 "nbformat": 4,
 "nbformat_minor": 2
}
