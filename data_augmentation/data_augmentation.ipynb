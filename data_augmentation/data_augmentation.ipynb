{
 "cells": [
  {
   "cell_type": "code",
   "execution_count": 37,
   "metadata": {},
   "outputs": [
    {
     "name": "stdout",
     "output_type": "stream",
     "text": [
      "Requirement already satisfied: imgaug in c:\\users\\gaby3\\documents\\sea-turtles-detection\\.venv\\lib\\site-packages (0.4.0)\n",
      "Requirement already satisfied: six in c:\\users\\gaby3\\documents\\sea-turtles-detection\\.venv\\lib\\site-packages (from imgaug) (1.16.0)\n",
      "Requirement already satisfied: numpy>=1.15 in c:\\users\\gaby3\\documents\\sea-turtles-detection\\.venv\\lib\\site-packages (from imgaug) (1.26.1)\n",
      "Requirement already satisfied: scipy in c:\\users\\gaby3\\documents\\sea-turtles-detection\\.venv\\lib\\site-packages (from imgaug) (1.11.3)\n",
      "Requirement already satisfied: Pillow in c:\\users\\gaby3\\documents\\sea-turtles-detection\\.venv\\lib\\site-packages (from imgaug) (10.1.0)\n",
      "Requirement already satisfied: matplotlib in c:\\users\\gaby3\\documents\\sea-turtles-detection\\.venv\\lib\\site-packages (from imgaug) (3.8.1)\n",
      "Requirement already satisfied: scikit-image>=0.14.2 in c:\\users\\gaby3\\documents\\sea-turtles-detection\\.venv\\lib\\site-packages (from imgaug) (0.22.0)\n",
      "Requirement already satisfied: opencv-python in c:\\users\\gaby3\\documents\\sea-turtles-detection\\.venv\\lib\\site-packages (from imgaug) (4.8.1.78)\n",
      "Requirement already satisfied: imageio in c:\\users\\gaby3\\documents\\sea-turtles-detection\\.venv\\lib\\site-packages (from imgaug) (2.33.0)\n",
      "Requirement already satisfied: Shapely in c:\\users\\gaby3\\documents\\sea-turtles-detection\\.venv\\lib\\site-packages (from imgaug) (2.0.2)\n",
      "Requirement already satisfied: networkx>=2.8 in c:\\users\\gaby3\\documents\\sea-turtles-detection\\.venv\\lib\\site-packages (from scikit-image>=0.14.2->imgaug) (3.2.1)\n",
      "Requirement already satisfied: tifffile>=2022.8.12 in c:\\users\\gaby3\\documents\\sea-turtles-detection\\.venv\\lib\\site-packages (from scikit-image>=0.14.2->imgaug) (2023.9.26)\n",
      "Requirement already satisfied: packaging>=21 in c:\\users\\gaby3\\documents\\sea-turtles-detection\\.venv\\lib\\site-packages (from scikit-image>=0.14.2->imgaug) (23.2)\n",
      "Requirement already satisfied: lazy_loader>=0.3 in c:\\users\\gaby3\\documents\\sea-turtles-detection\\.venv\\lib\\site-packages (from scikit-image>=0.14.2->imgaug) (0.3)\n",
      "Requirement already satisfied: contourpy>=1.0.1 in c:\\users\\gaby3\\documents\\sea-turtles-detection\\.venv\\lib\\site-packages (from matplotlib->imgaug) (1.2.0)\n",
      "Requirement already satisfied: cycler>=0.10 in c:\\users\\gaby3\\documents\\sea-turtles-detection\\.venv\\lib\\site-packages (from matplotlib->imgaug) (0.10.0)\n",
      "Requirement already satisfied: fonttools>=4.22.0 in c:\\users\\gaby3\\documents\\sea-turtles-detection\\.venv\\lib\\site-packages (from matplotlib->imgaug) (4.44.0)\n",
      "Requirement already satisfied: kiwisolver>=1.3.1 in c:\\users\\gaby3\\documents\\sea-turtles-detection\\.venv\\lib\\site-packages (from matplotlib->imgaug) (1.4.5)\n",
      "Requirement already satisfied: pyparsing>=2.3.1 in c:\\users\\gaby3\\documents\\sea-turtles-detection\\.venv\\lib\\site-packages (from matplotlib->imgaug) (2.4.7)\n",
      "Requirement already satisfied: python-dateutil>=2.7 in c:\\users\\gaby3\\documents\\sea-turtles-detection\\.venv\\lib\\site-packages (from matplotlib->imgaug) (2.8.2)\n"
     ]
    }
   ],
   "source": [
    "!pip install imgaug"
   ]
  },
  {
   "cell_type": "code",
   "execution_count": 38,
   "metadata": {},
   "outputs": [],
   "source": [
    "import os\n",
    "import cv2\n",
    "import imageio\n",
    "import numpy as np\n",
    "import imgaug as ia\n",
    "from imgaug import augmenters as iaa \n",
    "import matplotlib.pyplot as plt\n",
    "from imgaug.augmentables.bbs import BoundingBox, BoundingBoxesOnImage\n",
    "%matplotlib inline\n",
    "ia.seed(1)"
   ]
  },
  {
   "cell_type": "code",
   "execution_count": 39,
   "metadata": {},
   "outputs": [],
   "source": [
    "# Load the dataset\n",
    "image_dir = \"./sea-turtles-1-test/all/images/\"\n",
    "label_dir = \"./sea-turtles-1-test/all/labels/\"\n",
    "image_files = os.listdir(image_dir)"
   ]
  },
  {
   "cell_type": "code",
   "execution_count": 40,
   "metadata": {},
   "outputs": [],
   "source": [
    "# Only load the first 20 images with annotations\n",
    "image_files = [image_file for image_file in image_files if os.path.exists(os.path.join(label_dir, image_file.replace(\".jpg\", \".txt\")))]"
   ]
  },
  {
   "cell_type": "code",
   "execution_count": 41,
   "metadata": {},
   "outputs": [],
   "source": [
    "# Select the first 20 images\n",
    "image_files = image_files[:20]"
   ]
  },
  {
   "cell_type": "code",
   "execution_count": 42,
   "metadata": {},
   "outputs": [],
   "source": [
    "class Box_imgaug():\n",
    "    def __init__(self,x1,x2,y1,y2, class_id):\n",
    "        self.x1=x1\n",
    "        self.x2=x2\n",
    "        self.y1=y1\n",
    "        self.y2=y2\n",
    "        self.class_id=int(class_id)\n",
    "\n",
    "class Box_yolo():\n",
    "    def __init__(self,x_center,y_center,width,height, class_id):\n",
    "        self.x_center=x_center\n",
    "        self.y_center=y_center\n",
    "        self.width=width\n",
    "        self.height=height\n",
    "        self.class_id=class_id\n",
    "\n"
   ]
  },
  {
   "cell_type": "code",
   "execution_count": 43,
   "metadata": {},
   "outputs": [],
   "source": [
    "def coords_imgaug(annotation, img_w, img_h):\n",
    "    # Extract the bounding box coordinates\n",
    "    class_id, center_x, center_y, b_width, b_height = annotation\n",
    "    x1 = (center_x - (b_width/2))  *img_w\n",
    "    x2 = (center_x + (b_width/2))  *img_w\n",
    "    y1 = (center_y - (b_height/2)) *img_h\n",
    "    y2 = (center_y + (b_height/2)) *img_h\n",
    "    \n",
    "    return Box_imgaug(x1,x2,y1,y2, class_id)\n",
    "\n",
    "def coords_yolo(x1,x2,y1,y2, class_id, w, h):\n",
    "    b_width  = abs(x1,x2)\n",
    "    b_height = abs(y1-y2)\n",
    "    x_center = min(x1,x2) + b_width\n",
    "    y_center = min(y1,y2) + b_height\n",
    "\n",
    "    return Box_yolo(x_center/w,y_center/h, b_width/w, b_height/h, class_id)"
   ]
  },
  {
   "cell_type": "code",
   "execution_count": 44,
   "metadata": {},
   "outputs": [],
   "source": [
    "seq = iaa.Sequential([\n",
    "    iaa.Crop(px=(1, 16), keep_size=False),\n",
    "    iaa.Fliplr(0.5),\n",
    "    #iaa.GaussianBlur(sigma=(0, 3.0))\n",
    "], random_order=True)"
   ]
  },
  {
   "cell_type": "code",
   "execution_count": 46,
   "metadata": {},
   "outputs": [
    {
     "name": "stdout",
     "output_type": "stream",
     "text": [
      "img  ./sea-turtles-1-test/all/images/001.jpg  - label =  [0.0, 0.68359375, 0.30625, 0.01796875, 0.03984375]\n",
      "img  ./sea-turtles-1-test/all/images/001.jpg  - label =  [0.0, 0.6828125, 0.4015625, 0.01484375, 0.03046875]\n",
      "img  ./sea-turtles-1-test/all/images/001.jpg  - label =  [0.0, 0.65, 0.51328125, 0.01796875, 0.03046875]\n",
      "img  ./sea-turtles-1-test/all/images/001.jpg  - label =  [0.0, 0.634375, 0.55390625, 0.01875, 0.0328125]\n",
      "img  ./sea-turtles-1-test/all/images/001.jpg  - label =  [0.0, 0.659375, 0.61484375, 0.021875, 0.03359375]\n",
      "img  ./sea-turtles-1-test/all/images/001.jpg  - label =  [0.0, 0.6296875, 0.74609375, 0.01328125, 0.0328125]\n",
      "img  ./sea-turtles-1-test/all/images/001.jpg  - label =  [0.0, 0.634375, 0.8953125, 0.01796875, 0.0296875]\n"
     ]
    },
    {
     "ename": "TypeError",
     "evalue": "coords_yolo() missing 6 required positional arguments: 'x2', 'y1', 'y2', 'class_id', 'w', and 'h'",
     "output_type": "error",
     "traceback": [
      "\u001b[1;31m---------------------------------------------------------------------------\u001b[0m",
      "\u001b[1;31mTypeError\u001b[0m                                 Traceback (most recent call last)",
      "\u001b[1;32mc:\\Users\\gaby3\\Documents\\sea-turtles-detection\\data_augmentation\\data_augmentation.ipynb Cell 9\u001b[0m line \u001b[0;36m3\n\u001b[0;32m     <a href='vscode-notebook-cell:/c%3A/Users/gaby3/Documents/sea-turtles-detection/data_augmentation/data_augmentation.ipynb#X13sZmlsZQ%3D%3D?line=35'>36</a>\u001b[0m cv2\u001b[39m.\u001b[39mimwrite(image_dir\u001b[39m+\u001b[39m\u001b[39m'\u001b[39m\u001b[39maug_\u001b[39m\u001b[39m'\u001b[39m\u001b[39m+\u001b[39mimage_file, image_aug) \n\u001b[0;32m     <a href='vscode-notebook-cell:/c%3A/Users/gaby3/Documents/sea-turtles-detection/data_augmentation/data_augmentation.ipynb#X13sZmlsZQ%3D%3D?line=36'>37</a>\u001b[0m result \u001b[39m=\u001b[39m \u001b[39mmap\u001b[39m(coords_yolo,bbs_aug)\n\u001b[1;32m---> <a href='vscode-notebook-cell:/c%3A/Users/gaby3/Documents/sea-turtles-detection/data_augmentation/data_augmentation.ipynb#X13sZmlsZQ%3D%3D?line=37'>38</a>\u001b[0m \u001b[39mprint\u001b[39m(\u001b[39mlist\u001b[39m(result))\n\u001b[0;32m     <a href='vscode-notebook-cell:/c%3A/Users/gaby3/Documents/sea-turtles-detection/data_augmentation/data_augmentation.ipynb#X13sZmlsZQ%3D%3D?line=39'>40</a>\u001b[0m plt\u001b[39m.\u001b[39mimshow(bbs_aug\u001b[39m.\u001b[39mdraw_on_image(image_aug))\n",
      "\u001b[1;31mTypeError\u001b[0m: coords_yolo() missing 6 required positional arguments: 'x2', 'y1', 'y2', 'class_id', 'w', and 'h'"
     ]
    }
   ],
   "source": [
    "for image_file in image_files:\n",
    "    # Load the image\n",
    "    image_path = os.path.join(image_dir, image_file)\n",
    "    image = cv2.imread(image_path)\n",
    "    image = cv2.cvtColor(image, cv2.COLOR_BGR2RGB)\n",
    "\n",
    "    h, w, c = image.shape\n",
    "\n",
    "    # Load the corresponding annotation file\n",
    "    annotation_file = os.path.join(label_dir, image_file.replace('.jpg', '.txt'))\n",
    "    with open(annotation_file, 'r') as file:\n",
    "        list_bbs = []\n",
    "        for line in file:\n",
    "\n",
    "            # Assuming each line of the annotation file contains [class, xmin, ymin, xmax, ymax]\n",
    "            annotation = [float(coord) for coord in line.strip().split()]\n",
    "            print('img ',image_path,' - label = ', annotation)\n",
    "            \n",
    "            bbox_imgaug = coords_imgaug(annotation=annotation, img_w=w, img_h=h)\n",
    "\n",
    "            bb = BoundingBox(\n",
    "                    x1=bbox_imgaug.x1,\n",
    "                    x2=bbox_imgaug.x2,\n",
    "                    y1=bbox_imgaug.y1,\n",
    "                    y2=bbox_imgaug.y2,\n",
    "                    label=bbox_imgaug.class_id\n",
    "                    )\n",
    "\n",
    "            list_bbs.append(bb)\n",
    "        bbs = BoundingBoxesOnImage(list_bbs, shape=image.shape)\n",
    "\n",
    "    #print(annotation)\n",
    "    #plt.imshow(bbs.draw_on_image(image, size=2))\n",
    "\n",
    "    image_aug, bbs_aug = seq(image=image, bounding_boxes=bbs)\n",
    "    cv2.imwrite(image_dir+'aug_'+image_file, image_aug) \n",
    "    result = map(coords_yolo,bbs_aug)\n",
    "    print(list(result))\n",
    "    \n",
    "    plt.imshow(bbs_aug.draw_on_image(image_aug))"
   ]
  }
 ],
 "metadata": {
  "kernelspec": {
   "display_name": ".venv",
   "language": "python",
   "name": "python3"
  },
  "language_info": {
   "codemirror_mode": {
    "name": "ipython",
    "version": 3
   },
   "file_extension": ".py",
   "mimetype": "text/x-python",
   "name": "python",
   "nbconvert_exporter": "python",
   "pygments_lexer": "ipython3",
   "version": "3.11.6"
  }
 },
 "nbformat": 4,
 "nbformat_minor": 2
}
